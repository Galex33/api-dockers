{
 "cells": [
  {
   "cell_type": "code",
   "execution_count": 1,
   "source": [
    "import sys\r\n",
    "sys.path.append('C:/Users/utilisateur/Desktop/simplon_ia/travaux/referentiels/package_ml/ml_mise_prod/diamond')\r\n",
    "from pkg_diamond.get_data import read_data\r\n",
    "from pkg_diamond.preprocessing import Data\r\n",
    "from pkg_diamond.pipeline import *\r\n",
    "import seaborn as sns\r\n",
    "from pkg_diamond.model import *\r\n"
   ],
   "outputs": [],
   "metadata": {}
  },
  {
   "cell_type": "code",
   "execution_count": 2,
   "source": [
    "df = read_data(sns.load_dataset, 'diamonds')"
   ],
   "outputs": [],
   "metadata": {}
  },
  {
   "cell_type": "code",
   "execution_count": 3,
   "source": [
    "a = Model(df, 'price' )"
   ],
   "outputs": [],
   "metadata": {}
  },
  {
   "cell_type": "code",
   "execution_count": 4,
   "source": [
    "a.list_features()"
   ],
   "outputs": [],
   "metadata": {}
  },
  {
   "cell_type": "code",
   "execution_count": 5,
   "source": [
    "cut_dict = [\"Fair\", \"Good\", \"Very Good\", \"Premium\", \"Ideal\"]\r\n",
    "color_dict = [\"J\", \"I\", \"H\",\"G\", \"F\", \"E\",\"D\"]\r\n",
    "clarity_dict = [\"I1\", \"SI2\", \"SI1\", \"VS2\", \"VS1\", \"VVS2\", \"VVS1\", \"IF\"]\r\n"
   ],
   "outputs": [],
   "metadata": {}
  },
  {
   "cell_type": "code",
   "execution_count": 6,
   "source": [
    "a.features_pipeline('median', 'most_frequent', StandardScaler, OrdinalEncoder, [cut_dict, color_dict, clarity_dict])"
   ],
   "outputs": [],
   "metadata": {}
  },
  {
   "cell_type": "code",
   "execution_count": 7,
   "source": [
    "a.prepro()"
   ],
   "outputs": [],
   "metadata": {}
  },
  {
   "cell_type": "code",
   "execution_count": 8,
   "source": [
    "a.__dict__"
   ],
   "outputs": [
    {
     "output_type": "execute_result",
     "data": {
      "text/plain": [
       "{'df':        carat        cut color clarity  depth  table  price     x     y     z\n",
       " 0       0.23      Ideal     E     SI2   61.5   55.0    326  3.95  3.98  2.43\n",
       " 1       0.21    Premium     E     SI1   59.8   61.0    326  3.89  3.84  2.31\n",
       " 2       0.23       Good     E     VS1   56.9   65.0    327  4.05  4.07  2.31\n",
       " 3       0.29    Premium     I     VS2   62.4   58.0    334  4.20  4.23  2.63\n",
       " 4       0.31       Good     J     SI2   63.3   58.0    335  4.34  4.35  2.75\n",
       " ...      ...        ...   ...     ...    ...    ...    ...   ...   ...   ...\n",
       " 53935   0.72      Ideal     D     SI1   60.8   57.0   2757  5.75  5.76  3.50\n",
       " 53936   0.72       Good     D     SI1   63.1   55.0   2757  5.69  5.75  3.61\n",
       " 53937   0.70  Very Good     D     SI1   62.8   60.0   2757  5.66  5.68  3.56\n",
       " 53938   0.86    Premium     H     SI2   61.0   58.0   2757  6.15  6.12  3.74\n",
       " 53939   0.75      Ideal     D     SI2   62.2   55.0   2757  5.83  5.87  3.64\n",
       " \n",
       " [53794 rows x 10 columns],\n",
       " 'y': 0         326\n",
       " 1         326\n",
       " 2         327\n",
       " 3         334\n",
       " 4         335\n",
       "          ... \n",
       " 53935    2757\n",
       " 53936    2757\n",
       " 53937    2757\n",
       " 53938    2757\n",
       " 53939    2757\n",
       " Name: price, Length: 53794, dtype: int64,\n",
       " 'X':        carat        cut color clarity  depth  table     x     y     z\n",
       " 0       0.23      Ideal     E     SI2   61.5   55.0  3.95  3.98  2.43\n",
       " 1       0.21    Premium     E     SI1   59.8   61.0  3.89  3.84  2.31\n",
       " 2       0.23       Good     E     VS1   56.9   65.0  4.05  4.07  2.31\n",
       " 3       0.29    Premium     I     VS2   62.4   58.0  4.20  4.23  2.63\n",
       " 4       0.31       Good     J     SI2   63.3   58.0  4.34  4.35  2.75\n",
       " ...      ...        ...   ...     ...    ...    ...   ...   ...   ...\n",
       " 53935   0.72      Ideal     D     SI1   60.8   57.0  5.75  5.76  3.50\n",
       " 53936   0.72       Good     D     SI1   63.1   55.0  5.69  5.75  3.61\n",
       " 53937   0.70  Very Good     D     SI1   62.8   60.0  5.66  5.68  3.56\n",
       " 53938   0.86    Premium     H     SI2   61.0   58.0  6.15  6.12  3.74\n",
       " 53939   0.75      Ideal     D     SI2   62.2   55.0  5.83  5.87  3.64\n",
       " \n",
       " [53794 rows x 9 columns],\n",
       " 'categorical_ordinal_features': ['cut', 'color', 'clarity'],\n",
       " 'numerical_features': ['carat', 'depth', 'table', 'x', 'y', 'z'],\n",
       " 'numerical_pipeline': Pipeline(steps=[('simpleimputer', SimpleImputer(strategy='median')),\n",
       "                 ('standardscaler', StandardScaler())]),\n",
       " 'categorical_ordinal_pipeline': Pipeline(steps=[('simpleimputer', SimpleImputer(strategy='most_frequent')),\n",
       "                 ('ordinalencoder',\n",
       "                  OrdinalEncoder(categories=[['Fair', 'Good', 'Very Good',\n",
       "                                              'Premium', 'Ideal'],\n",
       "                                             ['J', 'I', 'H', 'G', 'F', 'E', 'D'],\n",
       "                                             ['I1', 'SI2', 'SI1', 'VS2', 'VS1',\n",
       "                                              'VVS2', 'VVS1', 'IF']],\n",
       "                                 handle_unknown='use_encoded_value',\n",
       "                                 unknown_value=-1))]),\n",
       " 'preprocessor': ColumnTransformer(transformers=[('pipeline-1',\n",
       "                                  Pipeline(steps=[('simpleimputer',\n",
       "                                                   SimpleImputer(strategy='median')),\n",
       "                                                  ('standardscaler',\n",
       "                                                   StandardScaler())]),\n",
       "                                  ['carat', 'depth', 'table', 'x', 'y', 'z']),\n",
       "                                 ('pipeline-2',\n",
       "                                  Pipeline(steps=[('simpleimputer',\n",
       "                                                   SimpleImputer(strategy='most_frequent')),\n",
       "                                                  ('ordinalencoder',\n",
       "                                                   OrdinalEncoder(categories=[['Fair',\n",
       "                                                                               'Good',\n",
       "                                                                               'Very '\n",
       "                                                                               'Good',\n",
       "                                                                               'Premium',\n",
       "                                                                               'Ideal'],\n",
       "                                                                              ['J',\n",
       "                                                                               'I',\n",
       "                                                                               'H',\n",
       "                                                                               'G',\n",
       "                                                                               'F',\n",
       "                                                                               'E',\n",
       "                                                                               'D'],\n",
       "                                                                              ['I1',\n",
       "                                                                               'SI2',\n",
       "                                                                               'SI1',\n",
       "                                                                               'VS2',\n",
       "                                                                               'VS1',\n",
       "                                                                               'VVS2',\n",
       "                                                                               'VVS1',\n",
       "                                                                               'IF']],\n",
       "                                                                  handle_unknown='use_encoded_value',\n",
       "                                                                  unknown_value=-1))]),\n",
       "                                  ['cut', 'color', 'clarity'])])}"
      ]
     },
     "metadata": {},
     "execution_count": 8
    }
   ],
   "metadata": {}
  },
  {
   "cell_type": "code",
   "execution_count": 9,
   "source": [
    "from sklearn.tree import DecisionTreeRegressor\r\n",
    "tree = DecisionTreeRegressor()\r\n",
    "model = make_pipeline(a.preprocessor, tree)\r\n",
    "a.fit_model(model)"
   ],
   "outputs": [],
   "metadata": {}
  },
  {
   "cell_type": "code",
   "execution_count": 11,
   "source": [
    "a.fit_model.save_model()"
   ],
   "outputs": [],
   "metadata": {}
  },
  {
   "cell_type": "code",
   "execution_count": 12,
   "source": [
    "a.load_model()"
   ],
   "outputs": [],
   "metadata": {}
  },
  {
   "cell_type": "code",
   "execution_count": 13,
   "source": [
    "a.__dict__"
   ],
   "outputs": [
    {
     "output_type": "execute_result",
     "data": {
      "text/plain": [
       "{'df':        carat        cut color clarity  depth  table  price     x     y     z\n",
       " 0       0.23      Ideal     E     SI2   61.5   55.0    326  3.95  3.98  2.43\n",
       " 1       0.21    Premium     E     SI1   59.8   61.0    326  3.89  3.84  2.31\n",
       " 2       0.23       Good     E     VS1   56.9   65.0    327  4.05  4.07  2.31\n",
       " 3       0.29    Premium     I     VS2   62.4   58.0    334  4.20  4.23  2.63\n",
       " 4       0.31       Good     J     SI2   63.3   58.0    335  4.34  4.35  2.75\n",
       " ...      ...        ...   ...     ...    ...    ...    ...   ...   ...   ...\n",
       " 53935   0.72      Ideal     D     SI1   60.8   57.0   2757  5.75  5.76  3.50\n",
       " 53936   0.72       Good     D     SI1   63.1   55.0   2757  5.69  5.75  3.61\n",
       " 53937   0.70  Very Good     D     SI1   62.8   60.0   2757  5.66  5.68  3.56\n",
       " 53938   0.86    Premium     H     SI2   61.0   58.0   2757  6.15  6.12  3.74\n",
       " 53939   0.75      Ideal     D     SI2   62.2   55.0   2757  5.83  5.87  3.64\n",
       " \n",
       " [53794 rows x 10 columns],\n",
       " 'y': 0         326\n",
       " 1         326\n",
       " 2         327\n",
       " 3         334\n",
       " 4         335\n",
       "          ... \n",
       " 53935    2757\n",
       " 53936    2757\n",
       " 53937    2757\n",
       " 53938    2757\n",
       " 53939    2757\n",
       " Name: price, Length: 53794, dtype: int64,\n",
       " 'X':        carat        cut color clarity  depth  table     x     y     z\n",
       " 0       0.23      Ideal     E     SI2   61.5   55.0  3.95  3.98  2.43\n",
       " 1       0.21    Premium     E     SI1   59.8   61.0  3.89  3.84  2.31\n",
       " 2       0.23       Good     E     VS1   56.9   65.0  4.05  4.07  2.31\n",
       " 3       0.29    Premium     I     VS2   62.4   58.0  4.20  4.23  2.63\n",
       " 4       0.31       Good     J     SI2   63.3   58.0  4.34  4.35  2.75\n",
       " ...      ...        ...   ...     ...    ...    ...   ...   ...   ...\n",
       " 53935   0.72      Ideal     D     SI1   60.8   57.0  5.75  5.76  3.50\n",
       " 53936   0.72       Good     D     SI1   63.1   55.0  5.69  5.75  3.61\n",
       " 53937   0.70  Very Good     D     SI1   62.8   60.0  5.66  5.68  3.56\n",
       " 53938   0.86    Premium     H     SI2   61.0   58.0  6.15  6.12  3.74\n",
       " 53939   0.75      Ideal     D     SI2   62.2   55.0  5.83  5.87  3.64\n",
       " \n",
       " [53794 rows x 9 columns],\n",
       " 'categorical_ordinal_features': ['cut', 'color', 'clarity'],\n",
       " 'numerical_features': ['carat', 'depth', 'table', 'x', 'y', 'z'],\n",
       " 'numerical_pipeline': Pipeline(steps=[('simpleimputer', SimpleImputer(strategy='median')),\n",
       "                 ('standardscaler', StandardScaler())]),\n",
       " 'categorical_ordinal_pipeline': Pipeline(steps=[('simpleimputer', SimpleImputer(strategy='most_frequent')),\n",
       "                 ('ordinalencoder',\n",
       "                  OrdinalEncoder(categories=[['Fair', 'Good', 'Very Good',\n",
       "                                              'Premium', 'Ideal'],\n",
       "                                             ['J', 'I', 'H', 'G', 'F', 'E', 'D'],\n",
       "                                             ['I1', 'SI2', 'SI1', 'VS2', 'VS1',\n",
       "                                              'VVS2', 'VVS1', 'IF']],\n",
       "                                 handle_unknown='use_encoded_value',\n",
       "                                 unknown_value=-1))]),\n",
       " 'preprocessor': ColumnTransformer(transformers=[('pipeline-1',\n",
       "                                  Pipeline(steps=[('simpleimputer',\n",
       "                                                   SimpleImputer(strategy='median')),\n",
       "                                                  ('standardscaler',\n",
       "                                                   StandardScaler())]),\n",
       "                                  ['carat', 'depth', 'table', 'x', 'y', 'z']),\n",
       "                                 ('pipeline-2',\n",
       "                                  Pipeline(steps=[('simpleimputer',\n",
       "                                                   SimpleImputer(strategy='most_frequent')),\n",
       "                                                  ('ordinalencoder',\n",
       "                                                   OrdinalEncoder(categories=[['Fair',\n",
       "                                                                               'Good',\n",
       "                                                                               'Very '\n",
       "                                                                               'Good',\n",
       "                                                                               'Premium',\n",
       "                                                                               'Ideal'],\n",
       "                                                                              ['J',\n",
       "                                                                               'I',\n",
       "                                                                               'H',\n",
       "                                                                               'G',\n",
       "                                                                               'F',\n",
       "                                                                               'E',\n",
       "                                                                               'D'],\n",
       "                                                                              ['I1',\n",
       "                                                                               'SI2',\n",
       "                                                                               'SI1',\n",
       "                                                                               'VS2',\n",
       "                                                                               'VS1',\n",
       "                                                                               'VVS2',\n",
       "                                                                               'VVS1',\n",
       "                                                                               'IF']],\n",
       "                                                                  handle_unknown='use_encoded_value',\n",
       "                                                                  unknown_value=-1))]),\n",
       "                                  ['cut', 'color', 'clarity'])]),\n",
       " 'model': Pipeline(steps=[('columntransformer',\n",
       "                  ColumnTransformer(transformers=[('pipeline-1',\n",
       "                                                   Pipeline(steps=[('simpleimputer',\n",
       "                                                                    SimpleImputer(strategy='median')),\n",
       "                                                                   ('standardscaler',\n",
       "                                                                    StandardScaler())]),\n",
       "                                                   ['carat', 'depth', 'table',\n",
       "                                                    'x', 'y', 'z']),\n",
       "                                                  ('pipeline-2',\n",
       "                                                   Pipeline(steps=[('simpleimputer',\n",
       "                                                                    SimpleImputer(strategy='most_frequent')),\n",
       "                                                                   ('ordinalencoder',\n",
       "                                                                    OrdinalEncoder(categories=[['Fair',\n",
       "                                                                                                'Good',\n",
       "                                                                                                'Very '\n",
       "                                                                                                'Good',\n",
       "                                                                                                'Premium',\n",
       "                                                                                                'Ideal'],\n",
       "                                                                                               ['J',\n",
       "                                                                                                'I',\n",
       "                                                                                                'H',\n",
       "                                                                                                'G',\n",
       "                                                                                                'F',\n",
       "                                                                                                'E',\n",
       "                                                                                                'D'],\n",
       "                                                                                               ['I1',\n",
       "                                                                                                'SI2',\n",
       "                                                                                                'SI1',\n",
       "                                                                                                'VS2',\n",
       "                                                                                                'VS1',\n",
       "                                                                                                'VVS2',\n",
       "                                                                                                'VVS1',\n",
       "                                                                                                'IF']],\n",
       "                                                                                   handle_unknown='use_encoded_value',\n",
       "                                                                                   unknown_value=-1))]),\n",
       "                                                   ['cut', 'color',\n",
       "                                                    'clarity'])])),\n",
       "                 ('decisiontreeregressor', DecisionTreeRegressor())])}"
      ]
     },
     "metadata": {},
     "execution_count": 13
    }
   ],
   "metadata": {}
  },
  {
   "cell_type": "code",
   "execution_count": null,
   "source": [],
   "outputs": [],
   "metadata": {}
  }
 ],
 "metadata": {
  "orig_nbformat": 4,
  "language_info": {
   "name": "python",
   "version": "3.8.8",
   "mimetype": "text/x-python",
   "codemirror_mode": {
    "name": "ipython",
    "version": 3
   },
   "pygments_lexer": "ipython3",
   "nbconvert_exporter": "python",
   "file_extension": ".py"
  },
  "kernelspec": {
   "name": "python3",
   "display_name": "Python 3.8.8 64-bit ('base': conda)"
  },
  "interpreter": {
   "hash": "b57b0ba709768a7bbbc5b5f9f052a7cbe42e1ac711dd327dca942e98c95c92b1"
  }
 },
 "nbformat": 4,
 "nbformat_minor": 2
}